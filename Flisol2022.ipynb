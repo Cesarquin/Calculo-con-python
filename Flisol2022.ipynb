{
  "nbformat": 4,
  "nbformat_minor": 0,
  "metadata": {
    "colab": {
      "name": "Flisol2022.ipynb",
      "provenance": [],
      "collapsed_sections": [
        "dfM9FdjWP36v",
        "yt-0Pv1sMl2w",
        "c2P3qEntm6qz",
        "Pfk1xbR1nMaF",
        "bhEa-_b8nob8",
        "z93xqjGqPDwl",
        "hRKGGXcHR64s",
        "FH7SGTF3VCmn",
        "xIWV97y_oDFK",
        "oREkRz5qqqPx",
        "_RwSFc2_rhzB",
        "4GC2uDtrsGao",
        "rFLvSv4TuCa_",
        "8uY-ViEFwlnT"
      ],
      "authorship_tag": "ABX9TyNPdNbMq1VBpmK8CXbplpvz",
      "include_colab_link": true
    },
    "kernelspec": {
      "name": "python3",
      "display_name": "Python 3"
    },
    "language_info": {
      "name": "python"
    }
  },
  "cells": [
    {
      "cell_type": "markdown",
      "metadata": {
        "id": "view-in-github",
        "colab_type": "text"
      },
      "source": [
        "<a href=\"https://colab.research.google.com/github/Cesarquin/Calculo-con-python/blob/main/Flisol2022.ipynb\" target=\"_parent\"><img src=\"https://colab.research.google.com/assets/colab-badge.svg\" alt=\"Open In Colab\"/></a>"
      ]
    },
    {
      "cell_type": "markdown",
      "source": [
        "# Python en la solución de problemas de cálculo."
      ],
      "metadata": {
        "id": "cNxGAJFifL7Z"
      }
    },
    {
      "cell_type": "code",
      "source": [
        "print(\"Bienvenidos!!!\")"
      ],
      "metadata": {
        "id": "gWnawj7KURAX"
      },
      "execution_count": null,
      "outputs": []
    },
    {
      "cell_type": "markdown",
      "source": [
        "#### Cálculo simbólico. Sympy\n",
        "\n",
        "El módulo **sympy** de python permite soluciones de cálculo utilizando variables simbólicas.\n",
        "\n",
        "Lo primero es acceder a sus funciones por medio de la importación de ésta librería."
      ],
      "metadata": {
        "id": "dfM9FdjWP36v"
      }
    },
    {
      "cell_type": "code",
      "source": [
        "import sympy"
      ],
      "metadata": {
        "id": "j5LSkyLkRzFv"
      },
      "execution_count": null,
      "outputs": []
    },
    {
      "cell_type": "code",
      "source": [
        "import sympy as sp"
      ],
      "metadata": {
        "id": "WLmovxPELoUD"
      },
      "execution_count": null,
      "outputs": []
    },
    {
      "cell_type": "code",
      "source": [
        "from sympy import *"
      ],
      "metadata": {
        "id": "i8p2DMTlJngF"
      },
      "execution_count": 84,
      "outputs": []
    },
    {
      "cell_type": "markdown",
      "source": [
        "##### Representación simbólica.\n",
        "\n",
        "Para la realización de los cálculos, se deben definir las variables a utilizar. \n",
        "\n",
        "La manera de definir las variables simbólicas es la siguiente:"
      ],
      "metadata": {
        "id": "yt-0Pv1sMl2w"
      }
    },
    {
      "cell_type": "code",
      "source": [
        "x, y= symbols('x y')"
      ],
      "metadata": {
        "id": "L6kL2L81JnUF"
      },
      "execution_count": 85,
      "outputs": []
    },
    {
      "cell_type": "markdown",
      "source": [
        "##### Gráficas.\n",
        "\n",
        "Una vez definidas las variables a utilizar, se puede hacer uso de \n",
        "\n",
        "las diferentes herramientas que ofrece el módulo sympy. "
      ],
      "metadata": {
        "id": "WRxY6v5dMtHk"
      }
    },
    {
      "cell_type": "markdown",
      "source": [
        "##### En 2D:"
      ],
      "metadata": {
        "id": "c2P3qEntm6qz"
      }
    },
    {
      "cell_type": "code",
      "source": [
        "plot(x)"
      ],
      "metadata": {
        "id": "JZxO6G0aCabc"
      },
      "execution_count": null,
      "outputs": []
    },
    {
      "cell_type": "markdown",
      "source": [
        "Para expresar el dominio de la gráfica en 'x', la sintaxis es:\n",
        "\n",
        "*plot(x, **intervalo**)*"
      ],
      "metadata": {
        "id": "sO4zxc7NW0hz"
      }
    },
    {
      "cell_type": "code",
      "source": [
        "# Intervalo en x es (0,1):\n",
        "plot(x,(x,0,1))"
      ],
      "metadata": {
        "id": "3blLercbYLea"
      },
      "execution_count": null,
      "outputs": []
    },
    {
      "cell_type": "code",
      "source": [
        "# Límites de la gráfica: de 0 a 1 en 'x', de -2 a 2 en 'y':\n",
        "plot(x,(x,0,1),(y,-2,2))"
      ],
      "metadata": {
        "id": "03v8sNaxSf1P"
      },
      "execution_count": null,
      "outputs": []
    },
    {
      "cell_type": "markdown",
      "source": [
        "Para graficar dos funciones en el mismo intervalo:"
      ],
      "metadata": {
        "id": "tZoJkZU5XrGo"
      }
    },
    {
      "cell_type": "code",
      "source": [
        "plot(x,cos(x))"
      ],
      "metadata": {
        "id": "0PyvIgxcUcMK"
      },
      "execution_count": null,
      "outputs": []
    },
    {
      "cell_type": "markdown",
      "source": [
        "Cambiando la frecuencia de la función trigonométrica:"
      ],
      "metadata": {
        "id": "9tElPbWWaaVC"
      }
    },
    {
      "cell_type": "code",
      "source": [
        "plot(sin(10*x),(x,-pi,pi))"
      ],
      "metadata": {
        "id": "VY78j8POUbzK"
      },
      "execution_count": null,
      "outputs": []
    },
    {
      "cell_type": "markdown",
      "source": [
        "Gráfica de una función amortiguada:"
      ],
      "metadata": {
        "id": "VoFQmgXzbItw"
      }
    },
    {
      "cell_type": "code",
      "source": [
        "plot((exp(-x)*cos(10*x),(x,0,3*pi)))"
      ],
      "metadata": {
        "id": "FZmTuKY0SfRe"
      },
      "execution_count": null,
      "outputs": []
    },
    {
      "cell_type": "markdown",
      "source": [
        "##### En 3D:"
      ],
      "metadata": {
        "id": "Pfk1xbR1nMaF"
      }
    },
    {
      "cell_type": "markdown",
      "source": [
        "También se pueden graficar funciones en 3D. \n",
        "\n",
        "Se debe importar el sub-módulo *plotting*:\n",
        "\n",
        "**from sympy.plotting import plot3d**\n",
        "\n",
        "La sintaxis es la siguiente:\n",
        "\n",
        "*plot3d( f(x,y), **rango x**, **rango y**)*\n",
        "\n",
        "Ejemplo:\n",
        "\n",
        "$f(x,y) = x^2 + y^2 $"
      ],
      "metadata": {
        "id": "aSn6Nv9hbipb"
      }
    },
    {
      "cell_type": "code",
      "source": [
        "from sympy.plotting import plot3d\n",
        "\n",
        "plot3d(x**2+y**2)"
      ],
      "metadata": {
        "id": "6kzy6ZWbSe6s"
      },
      "execution_count": null,
      "outputs": []
    },
    {
      "cell_type": "code",
      "source": [
        "plot3d(x**2-y**2)"
      ],
      "metadata": {
        "id": "JjMDmL_0lfy_"
      },
      "execution_count": null,
      "outputs": []
    },
    {
      "cell_type": "markdown",
      "source": [
        "##### Límites."
      ],
      "metadata": {
        "id": "bhEa-_b8nob8"
      }
    },
    {
      "cell_type": "markdown",
      "source": [
        "Limite de f(x) cuando x tiende a x0\n",
        "\n",
        "$$\\lim_{x\\rightarrow x0}{f(x)}$$\n",
        "\n",
        "Sintaxis en python:\n",
        "\n",
        "$$limit(f(x), x, x0)$$\n",
        "\n",
        "Ejemplo:\n",
        "\n",
        "$$f(x)=2x$$\n",
        "\n",
        "$$\\lim_{x\\rightarrow 3}{2x} = 2(3) = 6$$"
      ],
      "metadata": {
        "id": "NiLswr3XL9dT"
      }
    },
    {
      "cell_type": "code",
      "source": [
        "f=2*x"
      ],
      "metadata": {
        "id": "GoZscom_QgMk"
      },
      "execution_count": null,
      "outputs": []
    },
    {
      "cell_type": "code",
      "source": [
        "limit(f,x,3)"
      ],
      "metadata": {
        "id": "vQ1OIfs9LRo0"
      },
      "execution_count": null,
      "outputs": []
    },
    {
      "cell_type": "markdown",
      "source": [
        "##### Ejemplo:\n",
        "\n",
        "$f = \\frac{(2-\\sqrt{(x-2)}}{(x^2-36)}$\n",
        "\n",
        "$$\\lim_{x→6}{\\frac{(2-\\sqrt{(x-2)}}{(x^2-36)}}$$"
      ],
      "metadata": {
        "id": "z93xqjGqPDwl"
      }
    },
    {
      "cell_type": "code",
      "source": [
        "f = (2-sqrt(x-2))/(x**2-36)"
      ],
      "metadata": {
        "id": "6wXohlKlO3Xn"
      },
      "execution_count": null,
      "outputs": []
    },
    {
      "cell_type": "code",
      "source": [
        "limit(f, x, 6)"
      ],
      "metadata": {
        "id": "LQz6VakxLRnR"
      },
      "execution_count": null,
      "outputs": []
    },
    {
      "cell_type": "markdown",
      "source": [
        "##### Ejemplo:\n",
        "\n",
        "$f = {2x^4-x^2-8x}$\n",
        "\n",
        "$$\\lim_{x\\rightarrow\\infty}{2x^4-x^2-8x}$$"
      ],
      "metadata": {
        "id": "hRKGGXcHR64s"
      }
    },
    {
      "cell_type": "code",
      "source": [
        "limit(2*x**4-x**2-8*x, x, oo)"
      ],
      "metadata": {
        "id": "egAdD1DyLRE5"
      },
      "execution_count": null,
      "outputs": []
    },
    {
      "cell_type": "markdown",
      "source": [
        "##### Derivada por definiciòn:\n",
        "\n",
        "$$f'(x)=\\lim_{x→0}{\\frac{f(x-h)-f(x)}{h}}$$\n",
        "\n",
        "Ejemplo:\n",
        "\n",
        "$$f(x) = x^2 $$\n",
        "\n",
        "$$f'(x)=\\lim_{h→0}{\\frac{(x-h)^2-(x)^2}{h}}$$\n",
        "\n",
        "$$ f'(x) = 2x$$"
      ],
      "metadata": {
        "id": "FH7SGTF3VCmn"
      }
    },
    {
      "cell_type": "code",
      "source": [
        "h = symbols('h')"
      ],
      "metadata": {
        "id": "Ih_WLEszXShc"
      },
      "execution_count": 58,
      "outputs": []
    },
    {
      "cell_type": "code",
      "source": [
        "limit(((x+h)**2-x**2)/h,h,0)"
      ],
      "metadata": {
        "id": "Sd1cDenAUkPb"
      },
      "execution_count": null,
      "outputs": []
    },
    {
      "cell_type": "markdown",
      "source": [
        "##### Derivada.\n",
        "\n",
        "La función *diff* permite obtener la derivada."
      ],
      "metadata": {
        "id": "xIWV97y_oDFK"
      }
    },
    {
      "cell_type": "code",
      "source": [
        "diff(x**2, x)"
      ],
      "metadata": {
        "id": "orQuJlX9JnH8"
      },
      "execution_count": null,
      "outputs": []
    },
    {
      "cell_type": "markdown",
      "source": [
        "##### y = f(x)"
      ],
      "metadata": {
        "id": "oREkRz5qqqPx"
      }
    },
    {
      "cell_type": "code",
      "source": [
        "y=x**2\n",
        "diff(y,x)"
      ],
      "metadata": {
        "id": "daGaAWVdJm7f"
      },
      "execution_count": null,
      "outputs": []
    },
    {
      "cell_type": "markdown",
      "source": [
        "##### Funciones trigonométricas."
      ],
      "metadata": {
        "id": "_RwSFc2_rhzB"
      }
    },
    {
      "cell_type": "code",
      "source": [
        "diff(sin(x))"
      ],
      "metadata": {
        "id": "-QtvxvNxJ30u"
      },
      "execution_count": null,
      "outputs": []
    },
    {
      "cell_type": "code",
      "source": [
        "diff(tan(x))"
      ],
      "metadata": {
        "id": "Ts1KHj9JJ3p7"
      },
      "execution_count": null,
      "outputs": []
    },
    {
      "cell_type": "code",
      "source": [
        "diff(sqrt(x))"
      ],
      "metadata": {
        "id": "sUGgOSa_r9h9"
      },
      "execution_count": null,
      "outputs": []
    },
    {
      "cell_type": "code",
      "source": [
        "diff(log(x))"
      ],
      "metadata": {
        "id": "7yc-JW35sB1p"
      },
      "execution_count": null,
      "outputs": []
    },
    {
      "cell_type": "markdown",
      "source": [
        "##### Integración simbólica.\n",
        "\n",
        "La sintaxis: \n",
        "\n",
        "*integrate( f(x), **Intervalo** )*\n",
        "\n",
        "Ejemplo:\n",
        "\n",
        "$$\\int{x dx}$$"
      ],
      "metadata": {
        "id": "4GC2uDtrsGao"
      }
    },
    {
      "cell_type": "code",
      "source": [
        "integrate(x)"
      ],
      "metadata": {
        "id": "LN85MZQat8qb"
      },
      "execution_count": null,
      "outputs": []
    },
    {
      "cell_type": "markdown",
      "source": [
        "##### Integral definida\n",
        "\n",
        "Ejemplo:\n",
        "\n",
        "$$\\int_{0}^{\\pi}{sin(x)dx}$$"
      ],
      "metadata": {
        "id": "rFLvSv4TuCa_"
      }
    },
    {
      "cell_type": "code",
      "source": [
        "plot(sin(x),(x,0,pi))"
      ],
      "metadata": {
        "id": "kVtkWGKZtDs1"
      },
      "execution_count": null,
      "outputs": []
    },
    {
      "cell_type": "code",
      "source": [
        "integrate(sin(x),(x,0,pi))"
      ],
      "metadata": {
        "id": "pyHpl2tZstKX"
      },
      "execution_count": null,
      "outputs": []
    },
    {
      "cell_type": "markdown",
      "source": [
        "##### Integral impropia.\n",
        "\n",
        "Ejemplo:\n",
        "\n",
        "$$\\int_{0}^{\\infty}{e^{-x}dx}$$"
      ],
      "metadata": {
        "id": "8uY-ViEFwlnT"
      }
    },
    {
      "cell_type": "code",
      "source": [
        "integrate(exp(-x), (x, 0, oo)) #Integral de cero a infinito"
      ],
      "metadata": {
        "id": "9tx7jsGVJ3hO"
      },
      "execution_count": null,
      "outputs": []
    },
    {
      "cell_type": "markdown",
      "source": [
        "#### Cálculo Numérico. Numpy.\n",
        "\n",
        "El módulo numpy de python, permite soluciones numéricas. \n"
      ],
      "metadata": {
        "id": "qiiJqH8BxDlS"
      }
    },
    {
      "cell_type": "code",
      "source": [
        "import numpy"
      ],
      "metadata": {
        "id": "K6TmYt7nJ3YK"
      },
      "execution_count": null,
      "outputs": []
    },
    {
      "cell_type": "code",
      "source": [
        "import numpy as np "
      ],
      "metadata": {
        "id": "2OiI7LWAyQ6F"
      },
      "execution_count": null,
      "outputs": []
    },
    {
      "cell_type": "code",
      "source": [
        "from numpy import *"
      ],
      "metadata": {
        "id": "zqN462M5BX-P"
      },
      "execution_count": 89,
      "outputs": []
    },
    {
      "cell_type": "markdown",
      "source": [
        "##### Ejemplo.\n",
        "\n",
        "$x = [-2, -1, 0, 1, 2, 4, 6]$\n",
        "\n",
        "$f(x) = \\sqrt{x+2}$"
      ],
      "metadata": {
        "id": "_01Nu4_9yWH7"
      }
    },
    {
      "cell_type": "code",
      "source": [
        "# Se declara la función:\n",
        "def f(x):\n",
        "    return sqrt(x + 2)\n",
        "\n",
        "# Se definen los valores de 'x':\n",
        "x = array([-2, -1, 0, 1, 2, 4, 6])\n",
        "\n",
        "# Se obtiene el valor de 'y':\n",
        "y = f(x)\n",
        "\n",
        "# Se muestra el resultado:\n",
        "print(y)\n"
      ],
      "metadata": {
        "id": "gVR4lqQcJ3O2"
      },
      "execution_count": null,
      "outputs": []
    },
    {
      "cell_type": "markdown",
      "source": [
        "##### Gráficas numéricas.\n",
        "\n",
        "La gráfica numérica de:\n",
        "\n",
        "$f(x) = \\sqrt{x+2}$"
      ],
      "metadata": {
        "id": "1X2NwLjMsfeT"
      }
    },
    {
      "cell_type": "code",
      "source": [
        "import matplotlib.pyplot as plt\n",
        "\n",
        "plt.plot(x, y)\n",
        "plt.title(r\"Grafico de $f(x)=\\sqrt{x + 2}$\")\n",
        "plt.ylabel('f(x)')\n",
        "plt.xlabel('x')\n",
        "plt.show()"
      ],
      "metadata": {
        "colab": {
          "base_uri": "https://localhost:8080/",
          "height": 302
        },
        "id": "4wY7G9B7J3GF",
        "outputId": "a142cabc-a05b-4c7b-e2f4-82511efc1780"
      },
      "execution_count": null,
      "outputs": [
        {
          "output_type": "display_data",
          "data": {
            "text/plain": [
              "<Figure size 432x288 with 1 Axes>"
            ],
            "image/png": "[encoded data removed]"
          },
          "metadata": {
            "needs_background": "light"
          }
        }
      ]
    },
    {
      "cell_type": "markdown",
      "source": [
        "##### Una gráfica mas definida."
      ],
      "metadata": {
        "id": "JdjkUt7z2GyW"
      }
    },
    {
      "cell_type": "code",
      "source": [
        "x = np.linspace(-2, 4, num=30)\n",
        "plt.grid()\n",
        "plt.plot(x, f(x))\n",
        "plt.scatter(2, 4, label=\"limite cuando x tiende a 2\", color='r')\n",
        "plt.legend()\n",
        "plt.title(r\"Grafico de $f(x)=x^2 -x + 2$\")\n",
        "plt.ylabel('f(x)')\n",
        "plt.xlabel('x')\n",
        "plt.show"
      ],
      "metadata": {
        "colab": {
          "base_uri": "https://localhost:8080/",
          "height": 316
        },
        "id": "Obm19uJUJ26m",
        "outputId": "cdda85b9-cee4-4d16-82b6-34957e0cbd00"
      },
      "execution_count": 82,
      "outputs": [
        {
          "output_type": "execute_result",
          "data": {
            "text/plain": [
              "<function matplotlib.pyplot.show>"
            ]
          },
          "metadata": {},
          "execution_count": 82
        },
        {
          "output_type": "display_data",
          "data": {
            "text/plain": [
              "<Figure size 432x288 with 1 Axes>"
            ],
            "image/png": "[encoded data removed]"
          },
          "metadata": {
            "needs_background": "light"
          }
        }
      ]
    },
    {
      "cell_type": "markdown",
      "source": [
        "##### Diferencia.\n",
        "\n",
        "El uso de la función *diff* permite obtener la diferencia numérica.\n",
        "\n",
        "Ejemplo:\n",
        "\n",
        "$$x = {[1,2,3]} $$\n",
        "\n",
        "$$diff(x) = {[[2-1], [3-2]]}$$"
      ],
      "metadata": {
        "id": "iNyWkXmx3rbI"
      }
    },
    {
      "cell_type": "code",
      "source": [
        "x=[1,2,3]\n",
        "diff(x)"
      ],
      "metadata": {
        "id": "XOWWjLU3h5hd"
      },
      "execution_count": null,
      "outputs": []
    },
    {
      "cell_type": "code",
      "source": [
        ""
      ],
      "metadata": {
        "id": "TTFv2R2i4mQi"
      },
      "execution_count": null,
      "outputs": []
    }
  ]
}